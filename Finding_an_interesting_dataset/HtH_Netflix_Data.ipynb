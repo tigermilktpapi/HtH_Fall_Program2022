{
 "cells": [
  {
   "cell_type": "code",
   "execution_count": 13,
   "id": "54d89568",
   "metadata": {},
   "outputs": [
    {
     "data": {
      "text/html": [
       "<div>\n",
       "<style scoped>\n",
       "    .dataframe tbody tr th:only-of-type {\n",
       "        vertical-align: middle;\n",
       "    }\n",
       "\n",
       "    .dataframe tbody tr th {\n",
       "        vertical-align: top;\n",
       "    }\n",
       "\n",
       "    .dataframe thead th {\n",
       "        text-align: right;\n",
       "    }\n",
       "</style>\n",
       "<table border=\"1\" class=\"dataframe\">\n",
       "  <thead>\n",
       "    <tr style=\"text-align: right;\">\n",
       "      <th></th>\n",
       "      <th>Show Id</th>\n",
       "      <th>Title</th>\n",
       "      <th>Description</th>\n",
       "      <th>Director</th>\n",
       "      <th>Genres</th>\n",
       "      <th>Cast</th>\n",
       "      <th>Production Country</th>\n",
       "      <th>Release Date</th>\n",
       "      <th>Rating</th>\n",
       "      <th>Duration</th>\n",
       "      <th>Imdb Score</th>\n",
       "      <th>Content Type</th>\n",
       "      <th>Date Added</th>\n",
       "    </tr>\n",
       "  </thead>\n",
       "  <tbody>\n",
       "    <tr>\n",
       "      <th>0</th>\n",
       "      <td>cc1b6ed9-cf9e-4057-8303-34577fb54477</td>\n",
       "      <td>(Un)Well</td>\n",
       "      <td>This docuseries takes a deep dive into the luc...</td>\n",
       "      <td>NaN</td>\n",
       "      <td>Reality TV</td>\n",
       "      <td>NaN</td>\n",
       "      <td>United States</td>\n",
       "      <td>2020.0</td>\n",
       "      <td>TV-MA</td>\n",
       "      <td>1 Season</td>\n",
       "      <td>6.6/10</td>\n",
       "      <td>TV Show</td>\n",
       "      <td>NaN</td>\n",
       "    </tr>\n",
       "    <tr>\n",
       "      <th>1</th>\n",
       "      <td>e2ef4e91-fb25-42ab-b485-be8e3b23dedb</td>\n",
       "      <td>#Alive</td>\n",
       "      <td>As a grisly virus rampages a city, a lone man ...</td>\n",
       "      <td>Cho Il</td>\n",
       "      <td>Horror Movies, International Movies, Thrillers</td>\n",
       "      <td>Yoo Ah-in, Park Shin-hye</td>\n",
       "      <td>South Korea</td>\n",
       "      <td>2020.0</td>\n",
       "      <td>TV-MA</td>\n",
       "      <td>99 min</td>\n",
       "      <td>6.2/10</td>\n",
       "      <td>Movie</td>\n",
       "      <td>September 8, 2020</td>\n",
       "    </tr>\n",
       "    <tr>\n",
       "      <th>2</th>\n",
       "      <td>b01b73b7-81f6-47a7-86d8-acb63080d525</td>\n",
       "      <td>#AnneFrank - Parallel Stories</td>\n",
       "      <td>Through her diary, Anne Frank's story is retol...</td>\n",
       "      <td>Sabina Fedeli, Anna Migotto</td>\n",
       "      <td>Documentaries, International Movies</td>\n",
       "      <td>Helen Mirren, Gengher Gatti</td>\n",
       "      <td>Italy</td>\n",
       "      <td>2019.0</td>\n",
       "      <td>TV-14</td>\n",
       "      <td>95 min</td>\n",
       "      <td>6.4/10</td>\n",
       "      <td>Movie</td>\n",
       "      <td>July 1, 2020</td>\n",
       "    </tr>\n",
       "    <tr>\n",
       "      <th>3</th>\n",
       "      <td>b6611af0-f53c-4a08-9ffa-9716dc57eb9c</td>\n",
       "      <td>#blackAF</td>\n",
       "      <td>Kenya Barris and his family navigate relations...</td>\n",
       "      <td>NaN</td>\n",
       "      <td>TV Comedies</td>\n",
       "      <td>Kenya Barris, Rashida Jones, Iman Benson, Genn...</td>\n",
       "      <td>United States</td>\n",
       "      <td>2020.0</td>\n",
       "      <td>TV-MA</td>\n",
       "      <td>1 Season</td>\n",
       "      <td>6.6/10</td>\n",
       "      <td>TV Show</td>\n",
       "      <td>NaN</td>\n",
       "    </tr>\n",
       "    <tr>\n",
       "      <th>4</th>\n",
       "      <td>7f2d4170-bab8-4d75-adc2-197f7124c070</td>\n",
       "      <td>#cats_the_mewvie</td>\n",
       "      <td>This pawesome documentary explores how our fel...</td>\n",
       "      <td>Michael Margolis</td>\n",
       "      <td>Documentaries, International Movies</td>\n",
       "      <td>NaN</td>\n",
       "      <td>Canada</td>\n",
       "      <td>2020.0</td>\n",
       "      <td>TV-14</td>\n",
       "      <td>90 min</td>\n",
       "      <td>5.1/10</td>\n",
       "      <td>Movie</td>\n",
       "      <td>February 5, 2020</td>\n",
       "    </tr>\n",
       "  </tbody>\n",
       "</table>\n",
       "</div>"
      ],
      "text/plain": [
       "                                Show Id                          Title  \\\n",
       "0  cc1b6ed9-cf9e-4057-8303-34577fb54477                       (Un)Well   \n",
       "1  e2ef4e91-fb25-42ab-b485-be8e3b23dedb                         #Alive   \n",
       "2  b01b73b7-81f6-47a7-86d8-acb63080d525  #AnneFrank - Parallel Stories   \n",
       "3  b6611af0-f53c-4a08-9ffa-9716dc57eb9c                       #blackAF   \n",
       "4  7f2d4170-bab8-4d75-adc2-197f7124c070               #cats_the_mewvie   \n",
       "\n",
       "                                         Description  \\\n",
       "0  This docuseries takes a deep dive into the luc...   \n",
       "1  As a grisly virus rampages a city, a lone man ...   \n",
       "2  Through her diary, Anne Frank's story is retol...   \n",
       "3  Kenya Barris and his family navigate relations...   \n",
       "4  This pawesome documentary explores how our fel...   \n",
       "\n",
       "                      Director  \\\n",
       "0                          NaN   \n",
       "1                       Cho Il   \n",
       "2  Sabina Fedeli, Anna Migotto   \n",
       "3                          NaN   \n",
       "4             Michael Margolis   \n",
       "\n",
       "                                           Genres  \\\n",
       "0                                      Reality TV   \n",
       "1  Horror Movies, International Movies, Thrillers   \n",
       "2             Documentaries, International Movies   \n",
       "3                                     TV Comedies   \n",
       "4             Documentaries, International Movies   \n",
       "\n",
       "                                                Cast Production Country  \\\n",
       "0                                                NaN      United States   \n",
       "1                           Yoo Ah-in, Park Shin-hye        South Korea   \n",
       "2                        Helen Mirren, Gengher Gatti              Italy   \n",
       "3  Kenya Barris, Rashida Jones, Iman Benson, Genn...      United States   \n",
       "4                                                NaN             Canada   \n",
       "\n",
       "   Release Date Rating  Duration Imdb Score Content Type         Date Added  \n",
       "0        2020.0  TV-MA  1 Season     6.6/10      TV Show                NaN  \n",
       "1        2020.0  TV-MA    99 min     6.2/10        Movie  September 8, 2020  \n",
       "2        2019.0  TV-14    95 min     6.4/10        Movie       July 1, 2020  \n",
       "3        2020.0  TV-MA  1 Season     6.6/10      TV Show                NaN  \n",
       "4        2020.0  TV-14    90 min     5.1/10        Movie   February 5, 2020  "
      ]
     },
     "execution_count": 13,
     "metadata": {},
     "output_type": "execute_result"
    }
   ],
   "source": [
    "import pandas\n",
    "import seaborn as sns\n",
    "import matplotlib.pyplot as plt\n",
    "\n",
    "#pandas.options.display.max_columns = None\n",
    "#pandas.options.display.max_rows = None\n",
    "\n",
    "netflix = pandas.read_csv(\"netflixData.csv\")\n",
    "netflix.head()"
   ]
  },
  {
   "cell_type": "code",
   "execution_count": 2,
   "id": "16ffca40",
   "metadata": {
    "scrolled": true
   },
   "outputs": [
    {
     "name": "stdout",
     "output_type": "stream",
     "text": [
      "Netflix show count: 2100 \n",
      "Netflix's movie count: 3867\n"
     ]
    }
   ],
   "source": [
    "# Does Netflix have more shows or movies?\n",
    "shows = netflix[netflix[\"Content Type\"] == \"TV Show\"]\n",
    "show_count = len(shows)\n",
    "\n",
    "movies = netflix[netflix[\"Content Type\"] == \"Movie\"]\n",
    "movie_count = len(movies)\n",
    "\n",
    "print(\"Netflix show count:\", show_count, \"\\nNetflix's movie count:\", movie_count)"
   ]
  },
  {
   "cell_type": "code",
   "execution_count": 3,
   "id": "8692e413",
   "metadata": {},
   "outputs": [
    {
     "data": {
      "image/png": "[encoded data removed]",
      "text/plain": [
       "<Figure size 432x288 with 1 Axes>"
      ]
     },
     "metadata": {},
     "output_type": "display_data"
    }
   ],
   "source": [
    "sns.set(style=\"darkgrid\")\n",
    "graph = sns.countplot(x = \"Content Type\", data = netflix, palette = \"mako\")"
   ]
  },
  {
   "cell_type": "markdown",
   "id": "40c13e3d",
   "metadata": {},
   "source": [
    "# Here we can see that Netflix has more movies than TV shows.\n"
   ]
  },
  {
   "cell_type": "code",
   "execution_count": 12,
   "id": "c1725253",
   "metadata": {},
   "outputs": [
    {
     "name": "stdout",
     "output_type": "stream",
     "text": [
      "January 6, 2018 : 1\n"
     ]
    }
   ],
   "source": [
    "# When would be the best time for a producer to release content?\n",
    "dates = list(netflix[\"Date Added\"].unique())\n",
    "\n",
    "unique_dates_added = netflix['Date Added'].value_counts(ascending=True)\n",
    "lowest_month = unique_dates_added.index[0] \n",
    "lowest_month_count = unique_dates_added[lowest_month] \n",
    "\n",
    "print(lowest_month + \" : \" + str(lowest_month_count))\n"
   ]
  },
  {
   "cell_type": "markdown",
   "id": "fc4d2f95",
   "metadata": {},
   "source": [
    "# Based on my findings Netflix had the most recent shows with an average show year of 2016. This is followed by Disney+ with an average show year of 2012. Lastly, Prime Video with the oldest average show years of 2009. These could also reflect the show’s likelihood to be on a platform based on the year they were produced.\n"
   ]
  },
  {
   "cell_type": "code",
   "execution_count": 5,
   "id": "31023ad9",
   "metadata": {},
   "outputs": [
    {
     "ename": "NameError",
     "evalue": "name 'tvshow' is not defined",
     "output_type": "error",
     "traceback": [
      "\u001b[1;31m---------------------------------------------------------------------------\u001b[0m",
      "\u001b[1;31mNameError\u001b[0m                                 Traceback (most recent call last)",
      "\u001b[1;32m~\\AppData\\Local\\Temp/ipykernel_13444/950607113.py\u001b[0m in \u001b[0;36m<module>\u001b[1;34m\u001b[0m\n\u001b[0;32m      1\u001b[0m \u001b[1;31m# Which streaming platform caters more for kids age 7+?\u001b[0m\u001b[1;33m\u001b[0m\u001b[1;33m\u001b[0m\u001b[0m\n\u001b[1;32m----> 2\u001b[1;33m \u001b[0mnetflix\u001b[0m \u001b[1;33m=\u001b[0m \u001b[0mtvshow\u001b[0m\u001b[1;33m[\u001b[0m\u001b[0mtvshow\u001b[0m\u001b[1;33m[\u001b[0m\u001b[1;34m\"Netflix\"\u001b[0m\u001b[1;33m]\u001b[0m \u001b[1;33m==\u001b[0m \u001b[1;36m1\u001b[0m\u001b[1;33m]\u001b[0m\u001b[1;33m\u001b[0m\u001b[1;33m\u001b[0m\u001b[0m\n\u001b[0m\u001b[0;32m      3\u001b[0m \u001b[0mnetflix_kid_age\u001b[0m \u001b[1;33m=\u001b[0m \u001b[0mnetflix\u001b[0m\u001b[1;33m[\u001b[0m\u001b[1;34m\"Age\"\u001b[0m\u001b[1;33m]\u001b[0m \u001b[1;33m==\u001b[0m \u001b[1;34m\"7+\"\u001b[0m\u001b[1;33m\u001b[0m\u001b[1;33m\u001b[0m\u001b[0m\n\u001b[0;32m      4\u001b[0m \u001b[0mnetflix_showcount\u001b[0m \u001b[1;33m=\u001b[0m \u001b[1;36m0\u001b[0m\u001b[1;33m\u001b[0m\u001b[1;33m\u001b[0m\u001b[0m\n\u001b[0;32m      5\u001b[0m \u001b[1;32mfor\u001b[0m \u001b[0mage\u001b[0m \u001b[1;32min\u001b[0m \u001b[0mnetflix_kid_age\u001b[0m\u001b[1;33m:\u001b[0m\u001b[1;33m\u001b[0m\u001b[1;33m\u001b[0m\u001b[0m\n",
      "\u001b[1;31mNameError\u001b[0m: name 'tvshow' is not defined"
     ]
    }
   ],
   "source": [
    "# Which streaming platform caters more for kids age 7+?\n",
    "netflix = tvshow[tvshow[\"Netflix\"] == 1]\n",
    "netflix_kid_age = netflix[\"Age\"] == \"7+\"\n",
    "netflix_showcount = 0\n",
    "for age in netflix_kid_age:\n",
    "    if age == True:\n",
    "        netflix_showcount += 1\n",
    "\n",
    "hulu = tvshow[tvshow[\"Hulu\"] == 1]\n",
    "hulu_kid_age = hulu[\"Age\"] == \"7+\"\n",
    "hulu_showcount = 0\n",
    "for age in hulu_kid_age:\n",
    "    if age == True:\n",
    "        hulu_showcount += 1\n",
    "\n",
    "primevideo = tvshow[tvshow[\"Prime Video\"] == 1]\n",
    "prime_video_kid_age = primevideo[\"Age\"] == \"7+\"\n",
    "prime_showcount = 0\n",
    "for age in prime_video_kid_age:\n",
    "    if age == True:\n",
    "        prime_showcount += 1\n",
    "\n",
    "disney = tvshow[tvshow[\"Disney+\"] == 1]\n",
    "disney_kid_age = disney[\"Age\"] == \"7+\"\n",
    "disney_showcount = 0\n",
    "for age in disney_kid_age:\n",
    "    if age == True:\n",
    "        disney_showcount += 1\n",
    "\n",
    "print(\"Netflix's kid friendy show count:\", netflix_showcount,\"\\nHulu's kid friendy show count:\", hulu_showcount,\n",
    "      \"\\nPrime Video's kid friendy show count:\", prime_showcount, \"\\nDisney+'s kid friendy show count:\", disney_showcount)"
   ]
  },
  {
   "cell_type": "markdown",
   "id": "675ddcad",
   "metadata": {},
   "source": [
    "# Through my analysis I found Hulu to have the most kid friendly shows at 325. Here kid friendly is defined as shows with an age 7+ rating. Following Hulu we have Netflix with 299 shows for kids. Lastly, Disney+ has the lowest show count for kids at 109. "
   ]
  },
  {
   "cell_type": "code",
   "execution_count": null,
   "id": "d4a4e5c3",
   "metadata": {},
   "outputs": [],
   "source": [
    "# Which streaming platform has the most adult tv shows 18+?\n",
    "netflix = tvshow[tvshow[\"Netflix\"] == 1]\n",
    "netflix_adult_age = netflix[\"Age\"] == \"18+\"\n",
    "netflix_showcount = 0\n",
    "for age in netflix_adult_age:\n",
    "    if age == True:\n",
    "        netflix_showcount += 1\n",
    "\n",
    "hulu = tvshow[tvshow[\"Hulu\"] == 1]\n",
    "hulu_adult_age = hulu[\"Age\"] == \"18+\"\n",
    "hulu_showcount = 0\n",
    "for age in hulu_adult_age:\n",
    "    if age == True:\n",
    "        hulu_showcount += 1\n",
    "\n",
    "primevideo = tvshow[tvshow[\"Prime Video\"] == 1]\n",
    "prime_video_adult_age = primevideo[\"Age\"] == \"18+\"\n",
    "prime_showcount = 0\n",
    "for age in prime_video_adult_age:\n",
    "    if age == True:\n",
    "        prime_showcount += 1\n",
    "\n",
    "disney = tvshow[tvshow[\"Disney+\"] == 1]\n",
    "disney_adult_age = disney[\"Age\"] == \"18+\"\n",
    "disney_showcount = 0\n",
    "for age in disney_adult_age:\n",
    "    if age == True:\n",
    "        disney_showcount += 1\n",
    "\n",
    "print(\"Netflix's adult show count:\", netflix_showcount,\"\\nHulu's adult show count:\", hulu_showcount,\n",
    "      \"\\nPrime Video's adult show count:\", prime_showcount, \"\\nDisney+'s adult show count:\", disney_showcount)"
   ]
  },
  {
   "cell_type": "markdown",
   "id": "f85ef25b",
   "metadata": {},
   "source": [
    "# Through my findings I found that Netflix had the highest show count for adults at 482 shows. Here adult meant people ages 18+. Following Netflix, Hulu had 261 shows with an adult rating. Lastly, Disney+ had only 2 18+ rating shows. This reflects Netflix's catering towards adults and with a big gap between its competitors. "
   ]
  },
  {
   "cell_type": "code",
   "execution_count": null,
   "id": "02e93190",
   "metadata": {},
   "outputs": [],
   "source": []
  }
 ],
 "metadata": {
  "kernelspec": {
   "display_name": "Python 3 (ipykernel)",
   "language": "python",
   "name": "python3"
  },
  "language_info": {
   "codemirror_mode": {
    "name": "ipython",
    "version": 3
   },
   "file_extension": ".py",
   "mimetype": "text/x-python",
   "name": "python",
   "nbconvert_exporter": "python",
   "pygments_lexer": "ipython3",
   "version": "3.9.7"
  },
  "vscode": {
   "interpreter": {
    "hash": "02e30a1944b2587bb1294f2383a42da531eec4184971017897223c044f6bc1ae"
   }
  }
 },
 "nbformat": 4,
 "nbformat_minor": 5
}
